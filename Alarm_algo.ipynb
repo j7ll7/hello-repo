{
 "cells": [
  {
   "cell_type": "code",
   "execution_count": 191,
   "id": "7bdbd878",
   "metadata": {},
   "outputs": [],
   "source": [
    "#alle packages\n",
    "import pandas as pd\n"
   ]
  },
  {
   "cell_type": "code",
   "execution_count": 192,
   "id": "f5b87f0d",
   "metadata": {},
   "outputs": [
    {
     "name": "stdout",
     "output_type": "stream",
     "text": [
      "                   dt     asset  valve pos\n",
      "0 2025-04-02 13:00:00  313XV021        2.0\n",
      "1 2025-04-02 13:00:01  313XV021        2.0\n",
      "2 2025-04-02 13:00:02  313XV021        2.0\n",
      "3 2025-04-02 13:00:03  313XV021        2.0\n",
      "4 2025-04-02 13:00:04  313XV021        2.0\n"
     ]
    }
   ],
   "source": [
    "# 1. Read the CSV, parsing the DateTime column as datetime64\n",
    "df = pd.read_csv(\n",
    "    'historian.db.F5.03.csv',\n",
    "    parse_dates=['DateTime']        # ← this ensures df['DateTime'] is datetime64[ns]\n",
    ")\n",
    "\n",
    "# 2. Melt into long format\n",
    "trend = df.melt(\n",
    "    id_vars=['DateTime'],\n",
    "    var_name='asset',\n",
    "    value_name='valve_pos'\n",
    ")\n",
    "\n",
    "# 3. Clean up column names\n",
    "trend['asset'] = trend['asset'].str.replace(r'\\.Status$', '', regex=True)\n",
    "\n",
    "# 4. Rename columns to match your desired output\n",
    "trend.rename(columns={\n",
    "    'DateTime': 'dt', \n",
    "    'valve_pos': 'valve pos'\n",
    "}, inplace=True)\n",
    "\n",
    "# 5. (Optional) Display or save the result\n",
    "print(trend.head())\n",
    "# trend.to_csv('trend.csv', index=False)\n"
   ]
  },
  {
   "cell_type": "code",
   "execution_count": 193,
   "id": "8ee93ea6",
   "metadata": {},
   "outputs": [],
   "source": [
    "# assuming df is your big or small DataFrame\n",
    "trend['asset'] = trend['asset'].str[-3:].astype(int) - 20\n"
   ]
  },
  {
   "cell_type": "code",
   "execution_count": 194,
   "id": "74fc38f6",
   "metadata": {},
   "outputs": [
    {
     "name": "stdout",
     "output_type": "stream",
     "text": [
      "<bound method NDFrame.head of                          dt  asset  valve pos\n",
      "0       2025-04-02 13:00:00      1        2.0\n",
      "460800  2025-04-02 13:00:00      3        2.0\n",
      "230400  2025-04-02 13:00:00      2        2.0\n",
      "1382400 2025-04-02 13:00:00      7        2.0\n",
      "2073600 2025-04-02 13:00:00     10        2.0\n",
      "...                     ...    ...        ...\n",
      "691199  2025-04-05 04:59:59      3        2.0\n",
      "460799  2025-04-05 04:59:59      2        2.0\n",
      "230399  2025-04-05 04:59:59      1        1.0\n",
      "2534399 2025-04-05 04:59:59     11        2.0\n",
      "2764799 2025-04-05 04:59:59     12        2.0\n",
      "\n",
      "[2764800 rows x 3 columns]>\n"
     ]
    }
   ],
   "source": [
    "print(trend.sort_values(by = 'dt').head)\n"
   ]
  },
  {
   "cell_type": "code",
   "execution_count": 195,
   "id": "5511b3f1",
   "metadata": {},
   "outputs": [
    {
     "name": "stdout",
     "output_type": "stream",
     "text": [
      "                    dt  Tag       Alarm\n",
      "0  2025-03-04 04:04:33    9  HiHi.Alarm\n",
      "1  2025-03-04 12:26:58    4  HiHi.Alarm\n",
      "2  2025-03-04 12:43:18    4  HiHi.Alarm\n",
      "3  2025-03-04 13:12:41    4  HiHi.Alarm\n",
      "4  2025-03-04 14:58:34    2  LoLo.Alarm\n",
      "5  2025-03-04 19:38:36    8  HiHi.Alarm\n",
      "6  2025-03-04 19:40:31    8  HiHi.Alarm\n",
      "7  2025-03-04 22:54:16   11  HiHi.Alarm\n",
      "8  2025-03-04 22:55:33   12  HiHi.Alarm\n",
      "9  2025-04-04 09:41:02   11  HiHi.Alarm\n",
      "10 2025-04-04 09:41:33    8  HiHi.Alarm\n",
      "11 2025-04-04 09:44:49   11  HiHi.Alarm\n",
      "12 2025-04-04 16:04:22    1  HiHi.Alarm\n",
      "13 2025-04-04 16:06:51    1  HiHi.Alarm\n",
      "14 2025-04-04 16:50:54    1  HiHi.Alarm\n",
      "15 2025-04-04 16:53:29    1  HiHi.Alarm\n",
      "16 2025-04-04 21:22:30    1  HiHi.Alarm\n",
      "17 2025-05-04 02:38:06    1  HiHi.Alarm\n"
     ]
    }
   ],
   "source": [
    "def load_alarm_dataframe(filepath: str = 'alarm.viewer.F5.03.xlsx') -> pd.DataFrame:\n",
    "    \"\"\"\n",
    "    Loads an Excel file of alarms, parses TagName into Tag and Alarm,\n",
    "    and returns a DataFrame with DateTime, Tag and Alarm columns.\n",
    "    \"\"\"\n",
    "    # Read in the Excel file\n",
    "    df = pd.read_excel(filepath, engine='openpyxl')\n",
    "\n",
    "    \n",
    "    # Ensure DateTime is a datetime dtype\n",
    "    df['DateTime'] = pd.to_datetime(df['DateTime'])\n",
    "    \n",
    "    # Split TagName into three parts: prefix1, prefix2, and alarm name\n",
    "    parts = df['TagName'].str.split('.', n=2, expand=True)\n",
    "    \n",
    "    # Recombine first two parts for Tag and take the third part as Alarm\n",
    "    df['Tag']   = parts[0] + '.' + parts[1]\n",
    "    df['Alarm'] = parts[2]\n",
    "    \n",
    "    # Return only the columns you care about\n",
    "    return df[['DateTime','Tag','Alarm']]\n",
    "    \n",
    "\n",
    "# --- usage elsewhere in your code ---\n",
    "alarm_df = load_alarm_dataframe()   # now `alarm_df` holds your processed data\n",
    "\n",
    "alarm_df.rename(columns={'DateTime': 'dt'}, inplace=True)\n",
    "\n",
    "# in-place overwrite:\n",
    "alarm_df['Tag'] = (\n",
    "    alarm_df['Tag']\n",
    "      .str.extract(r'(\\d{3})\\.PV$')[0]  # grab the \"001\"… \"012\"\n",
    "      .astype(int)                      # turn \"001\"→1, … \"012\"→12\n",
    ")\n",
    "\n",
    "\n",
    "# You can reuse `alarm_df` anytime later:\n",
    "print(alarm_df)\n"
   ]
  },
  {
   "cell_type": "code",
   "execution_count": 198,
   "id": "1c0f168e",
   "metadata": {},
   "outputs": [],
   "source": [
    "# --- 2) Extract base Tag and map to asset in alarm_df ---\n",
    "#   e.g. \"313PT009.PV\" → \"313PT009\" → maps to \"313XV029\"\n",
    "alarm_df['asset'] = (\n",
    "    alarm_df['Tag']\n",
    ")\n",
    "\n",
    "# --- 3) Normalize both DataFrames: dt → DateTime, parse, sort by asset & time ---\n",
    "def prep(df):\n",
    "    # drop any duplicate columns\n",
    "    df = df.loc[:, ~df.columns.duplicated()]\n",
    "    # rename 'dt' → 'DateTime'\n",
    "    if 'dt' in df.columns:\n",
    "        df = df.rename(columns={'dt':'DateTime'})\n",
    "    # ensure DateTime exists\n",
    "    if 'DateTime' not in df.columns:\n",
    "        raise KeyError(f\"'DateTime' not found in {df.columns.tolist()}\")\n",
    "    df['DateTime'] = pd.to_datetime(df['DateTime'])\n",
    "    return df\n",
    "\n",
    "trend    = prep(trend)\n",
    "alarm_df = prep(alarm_df)\n",
    "\n",
    "trend    = trend   .sort_values(['asset','DateTime']).reset_index(drop=True)\n",
    "alarm_df = alarm_df.sort_values(['asset','DateTime']).reset_index(drop=True)\n",
    "\n",
    "\n"
   ]
  },
  {
   "cell_type": "code",
   "execution_count": 209,
   "id": "73e866f3",
   "metadata": {},
   "outputs": [],
   "source": [
    "import pandas as pd\n",
    "\n",
    "# ensure DateTime is datetime, and asset_id is int in both tables\n",
    "for df in (trend, alarm_df):\n",
    "    df['DateTime'] = pd.to_datetime(df['DateTime'])\n",
    "    df['asset'] = df['asset'].astype(int)\n",
    "\n",
    "# helper to asof-merge one asset's worth of rows\n",
    "def asof_for_asset(asset, trend_grp):\n",
    "    # take only the alarm rows for this asset\n",
    "    alarms = alarm_df[alarm_df['asset'] == asset]\n",
    "    # both must be sorted by time for merge_asof\n",
    "    trend_grp = trend_grp.sort_values('DateTime')\n",
    "    alarms    = alarms.sort_values('DateTime')\n",
    "    # merge—the last alarm at or before each trend timestamp\n",
    "    return pd.merge_asof(\n",
    "        trend_grp,\n",
    "        alarms,\n",
    "        on='DateTime',\n",
    "        direction='backward',\n",
    "        suffixes=('','_alarm')\n",
    "    )\n",
    "\n",
    "# apply per-asset and reassemble\n",
    "merged = (\n",
    "    trend\n",
    "      .groupby('asset', group_keys=False)\n",
    "      .apply(lambda grp: asof_for_asset(grp.name, grp))\n",
    "      .reset_index(drop=True)\n",
    ")\n"
   ]
  },
  {
   "cell_type": "code",
   "execution_count": 210,
   "id": "48f22f3a",
   "metadata": {},
   "outputs": [
    {
     "data": {
      "text/plain": [
       "DateTime       2764800\n",
       "asset          2764800\n",
       "valve pos      2764800\n",
       "Tag            1428938\n",
       "Alarm          1428938\n",
       "asset_alarm    1428938\n",
       "dtype: int64"
      ]
     },
     "execution_count": 210,
     "metadata": {},
     "output_type": "execute_result"
    }
   ],
   "source": [
    "merged.count(\n",
    ")"
   ]
  },
  {
   "cell_type": "code",
   "execution_count": null,
   "id": "65c712a9",
   "metadata": {},
   "outputs": [],
   "source": [
    "merged = pd.merge(\n",
    "    trend,\n",
    "    alarm_df,\n",
    "    on=['DateTime','asset'],\n",
    "    how='left'          # ← keeps every row from big_df\n",
    ")\n"
   ]
  },
  {
   "cell_type": "code",
   "execution_count": null,
   "id": "17c59484",
   "metadata": {},
   "outputs": [
    {
     "name": "stdout",
     "output_type": "stream",
     "text": [
      "DateTime     2764800\n",
      "asset        2764800\n",
      "valve pos    2764800\n",
      "Tag              488\n",
      "Alarm            488\n",
      "dtype: int64\n"
     ]
    }
   ],
   "source": [
    "counts = merged.count()\n",
    "print(counts)\n"
   ]
  },
  {
   "cell_type": "code",
   "execution_count": null,
   "id": "a2505eb1",
   "metadata": {},
   "outputs": [],
   "source": [
    "# 1. Make sure your DataFrame is sorted by time\n",
    "merged = merged.sort_values('DateTime')\n",
    "\n",
    "# 2. Mark the times when an alarm appears\n",
    "#    We’ll create a helper column that is the timestamp when alarm is non-empty,\n",
    "#    and NaT everywhere else.\n",
    "merged['alarm_time'] = merged['DateTime'].where(merged['Alarm'].notna() & (merged['Alarm'].str.strip() != ''))\n",
    "\n",
    "# 3. Propagate (forward-fill) that timestamp to subsequent rows\n",
    "merged['alarm_time'] = merged['alarm_time'].ffill()\n",
    "\n",
    "# 4. Compute flag: 1 if current row is within 5 seconds of the last alarm_time\n",
    "merged['alarm_flag'] = (\n",
    "    (merged['DateTime'] - merged['alarm_time']) <= pd.Timedelta(seconds=5)\n",
    ").fillna(False).astype(int)\n",
    "\n"
   ]
  },
  {
   "cell_type": "code",
   "execution_count": null,
   "id": "6989b56c",
   "metadata": {},
   "outputs": [
    {
     "ename": "KeyboardInterrupt",
     "evalue": "",
     "output_type": "error",
     "traceback": [
      "\u001b[1;31m---------------------------------------------------------------------------\u001b[0m",
      "\u001b[1;31mKeyboardInterrupt\u001b[0m                         Traceback (most recent call last)",
      "\u001b[1;32m~\\AppData\\Local\\Temp\\ipykernel_17040\\3787132233.py\u001b[0m in \u001b[0;36m<module>\u001b[1;34m\u001b[0m\n\u001b[0;32m      7\u001b[0m \u001b[1;33m\u001b[0m\u001b[0m\n\u001b[0;32m      8\u001b[0m \u001b[1;31m# 3. Walk through each row and update the state\u001b[0m\u001b[1;33m\u001b[0m\u001b[1;33m\u001b[0m\u001b[0m\n\u001b[1;32m----> 9\u001b[1;33m \u001b[1;32mfor\u001b[0m \u001b[0mi\u001b[0m\u001b[1;33m,\u001b[0m \u001b[0mrow\u001b[0m \u001b[1;32min\u001b[0m \u001b[0mmerged\u001b[0m\u001b[1;33m.\u001b[0m\u001b[0miterrows\u001b[0m\u001b[1;33m(\u001b[0m\u001b[1;33m)\u001b[0m\u001b[1;33m:\u001b[0m\u001b[1;33m\u001b[0m\u001b[0m\n\u001b[0m\u001b[0;32m     10\u001b[0m     \u001b[1;31m# if we’re not in a failure, check for the start condition\u001b[0m\u001b[1;33m\u001b[0m\u001b[1;33m\u001b[0m\u001b[0m\n\u001b[0;32m     11\u001b[0m     \u001b[1;32mif\u001b[0m \u001b[0min_failure\u001b[0m \u001b[1;33m==\u001b[0m \u001b[1;36m0\u001b[0m \u001b[1;32mand\u001b[0m \u001b[0mrow\u001b[0m\u001b[1;33m[\u001b[0m\u001b[1;34m'alarm_flag'\u001b[0m\u001b[1;33m]\u001b[0m \u001b[1;33m==\u001b[0m \u001b[1;36m1\u001b[0m \u001b[1;32mand\u001b[0m \u001b[0mrow\u001b[0m\u001b[1;33m[\u001b[0m\u001b[1;34m'valve pos'\u001b[0m\u001b[1;33m]\u001b[0m \u001b[1;33m==\u001b[0m \u001b[1;36m1\u001b[0m\u001b[1;33m:\u001b[0m\u001b[1;33m\u001b[0m\u001b[0m\n",
      "\u001b[1;32m~\\AppData\\Roaming\\Python\\Python37\\site-packages\\pandas\\core\\frame.py\u001b[0m in \u001b[0;36miterrows\u001b[1;34m(self)\u001b[0m\n\u001b[0;32m   1011\u001b[0m         \u001b[0mcolumns\u001b[0m \u001b[1;33m=\u001b[0m \u001b[0mself\u001b[0m\u001b[1;33m.\u001b[0m\u001b[0mcolumns\u001b[0m\u001b[1;33m\u001b[0m\u001b[0m\n\u001b[0;32m   1012\u001b[0m         \u001b[0mklass\u001b[0m \u001b[1;33m=\u001b[0m \u001b[0mself\u001b[0m\u001b[1;33m.\u001b[0m\u001b[0m_constructor_sliced\u001b[0m\u001b[1;33m\u001b[0m\u001b[0m\n\u001b[1;32m-> 1013\u001b[1;33m         \u001b[1;32mfor\u001b[0m \u001b[0mk\u001b[0m\u001b[1;33m,\u001b[0m \u001b[0mv\u001b[0m \u001b[1;32min\u001b[0m \u001b[0mzip\u001b[0m\u001b[1;33m(\u001b[0m\u001b[0mself\u001b[0m\u001b[1;33m.\u001b[0m\u001b[0mindex\u001b[0m\u001b[1;33m,\u001b[0m \u001b[0mself\u001b[0m\u001b[1;33m.\u001b[0m\u001b[0mvalues\u001b[0m\u001b[1;33m)\u001b[0m\u001b[1;33m:\u001b[0m\u001b[1;33m\u001b[0m\u001b[0m\n\u001b[0m\u001b[0;32m   1014\u001b[0m             \u001b[0ms\u001b[0m \u001b[1;33m=\u001b[0m \u001b[0mklass\u001b[0m\u001b[1;33m(\u001b[0m\u001b[0mv\u001b[0m\u001b[1;33m,\u001b[0m \u001b[0mindex\u001b[0m\u001b[1;33m=\u001b[0m\u001b[0mcolumns\u001b[0m\u001b[1;33m,\u001b[0m \u001b[0mname\u001b[0m\u001b[1;33m=\u001b[0m\u001b[0mk\u001b[0m\u001b[1;33m)\u001b[0m\u001b[1;33m\u001b[0m\u001b[0m\n\u001b[0;32m   1015\u001b[0m             \u001b[1;32myield\u001b[0m \u001b[0mk\u001b[0m\u001b[1;33m,\u001b[0m \u001b[0ms\u001b[0m\u001b[1;33m\u001b[0m\u001b[0m\n",
      "\u001b[1;32m~\\AppData\\Roaming\\Python\\Python37\\site-packages\\pandas\\core\\generic.py\u001b[0m in \u001b[0;36mvalues\u001b[1;34m(self)\u001b[0m\n\u001b[0;32m   5343\u001b[0m         \"\"\"\n\u001b[0;32m   5344\u001b[0m         \u001b[0mself\u001b[0m\u001b[1;33m.\u001b[0m\u001b[0m_consolidate_inplace\u001b[0m\u001b[1;33m(\u001b[0m\u001b[1;33m)\u001b[0m\u001b[1;33m\u001b[0m\u001b[0m\n\u001b[1;32m-> 5345\u001b[1;33m         \u001b[1;32mreturn\u001b[0m \u001b[0mself\u001b[0m\u001b[1;33m.\u001b[0m\u001b[0m_mgr\u001b[0m\u001b[1;33m.\u001b[0m\u001b[0mas_array\u001b[0m\u001b[1;33m(\u001b[0m\u001b[0mtranspose\u001b[0m\u001b[1;33m=\u001b[0m\u001b[0mself\u001b[0m\u001b[1;33m.\u001b[0m\u001b[0m_AXIS_REVERSED\u001b[0m\u001b[1;33m)\u001b[0m\u001b[1;33m\u001b[0m\u001b[0m\n\u001b[0m\u001b[0;32m   5346\u001b[0m \u001b[1;33m\u001b[0m\u001b[0m\n\u001b[0;32m   5347\u001b[0m     \u001b[1;33m@\u001b[0m\u001b[0mproperty\u001b[0m\u001b[1;33m\u001b[0m\u001b[0m\n",
      "\u001b[1;32m~\\AppData\\Roaming\\Python\\Python37\\site-packages\\pandas\\core\\internals\\managers.py\u001b[0m in \u001b[0;36mas_array\u001b[1;34m(self, transpose, dtype, copy, na_value)\u001b[0m\n\u001b[0;32m    860\u001b[0m                     \u001b[0marr\u001b[0m \u001b[1;33m=\u001b[0m \u001b[0marr\u001b[0m\u001b[1;33m.\u001b[0m\u001b[0mastype\u001b[0m\u001b[1;33m(\u001b[0m\u001b[0mdtype\u001b[0m\u001b[1;33m,\u001b[0m \u001b[0mcopy\u001b[0m\u001b[1;33m=\u001b[0m\u001b[1;32mFalse\u001b[0m\u001b[1;33m)\u001b[0m\u001b[1;33m\u001b[0m\u001b[0m\n\u001b[0;32m    861\u001b[0m         \u001b[1;32melse\u001b[0m\u001b[1;33m:\u001b[0m\u001b[1;33m\u001b[0m\u001b[0m\n\u001b[1;32m--> 862\u001b[1;33m             \u001b[0marr\u001b[0m \u001b[1;33m=\u001b[0m \u001b[0mself\u001b[0m\u001b[1;33m.\u001b[0m\u001b[0m_interleave\u001b[0m\u001b[1;33m(\u001b[0m\u001b[0mdtype\u001b[0m\u001b[1;33m=\u001b[0m\u001b[0mdtype\u001b[0m\u001b[1;33m,\u001b[0m \u001b[0mna_value\u001b[0m\u001b[1;33m=\u001b[0m\u001b[0mna_value\u001b[0m\u001b[1;33m)\u001b[0m\u001b[1;33m\u001b[0m\u001b[0m\n\u001b[0m\u001b[0;32m    863\u001b[0m             \u001b[1;31m# The underlying data was copied within _interleave\u001b[0m\u001b[1;33m\u001b[0m\u001b[1;33m\u001b[0m\u001b[0m\n\u001b[0;32m    864\u001b[0m             \u001b[0mcopy\u001b[0m \u001b[1;33m=\u001b[0m \u001b[1;32mFalse\u001b[0m\u001b[1;33m\u001b[0m\u001b[0m\n",
      "\u001b[1;32m~\\AppData\\Roaming\\Python\\Python37\\site-packages\\pandas\\core\\internals\\managers.py\u001b[0m in \u001b[0;36m_interleave\u001b[1;34m(self, dtype, na_value)\u001b[0m\n\u001b[0;32m    899\u001b[0m                 \u001b[0marr\u001b[0m \u001b[1;33m=\u001b[0m \u001b[0mblk\u001b[0m\u001b[1;33m.\u001b[0m\u001b[0mvalues\u001b[0m\u001b[1;33m.\u001b[0m\u001b[0mto_numpy\u001b[0m\u001b[1;33m(\u001b[0m\u001b[0mdtype\u001b[0m\u001b[1;33m=\u001b[0m\u001b[0mdtype\u001b[0m\u001b[1;33m,\u001b[0m \u001b[0mna_value\u001b[0m\u001b[1;33m=\u001b[0m\u001b[0mna_value\u001b[0m\u001b[1;33m)\u001b[0m\u001b[1;33m\u001b[0m\u001b[0m\n\u001b[0;32m    900\u001b[0m             \u001b[1;32melse\u001b[0m\u001b[1;33m:\u001b[0m\u001b[1;33m\u001b[0m\u001b[0m\n\u001b[1;32m--> 901\u001b[1;33m                 \u001b[0marr\u001b[0m \u001b[1;33m=\u001b[0m \u001b[0mblk\u001b[0m\u001b[1;33m.\u001b[0m\u001b[0mget_values\u001b[0m\u001b[1;33m(\u001b[0m\u001b[0mdtype\u001b[0m\u001b[1;33m)\u001b[0m\u001b[1;33m\u001b[0m\u001b[0m\n\u001b[0m\u001b[0;32m    902\u001b[0m             \u001b[0mresult\u001b[0m\u001b[1;33m[\u001b[0m\u001b[0mrl\u001b[0m\u001b[1;33m.\u001b[0m\u001b[0mindexer\u001b[0m\u001b[1;33m]\u001b[0m \u001b[1;33m=\u001b[0m \u001b[0marr\u001b[0m\u001b[1;33m\u001b[0m\u001b[0m\n\u001b[0;32m    903\u001b[0m             \u001b[0mitemmask\u001b[0m\u001b[1;33m[\u001b[0m\u001b[0mrl\u001b[0m\u001b[1;33m.\u001b[0m\u001b[0mindexer\u001b[0m\u001b[1;33m]\u001b[0m \u001b[1;33m=\u001b[0m \u001b[1;36m1\u001b[0m\u001b[1;33m\u001b[0m\u001b[0m\n",
      "\u001b[1;32m~\\AppData\\Roaming\\Python\\Python37\\site-packages\\pandas\\core\\internals\\blocks.py\u001b[0m in \u001b[0;36mget_values\u001b[1;34m(self, dtype)\u001b[0m\n\u001b[0;32m   2020\u001b[0m         \u001b[1;32mif\u001b[0m \u001b[0mis_object_dtype\u001b[0m\u001b[1;33m(\u001b[0m\u001b[0mdtype\u001b[0m\u001b[1;33m)\u001b[0m\u001b[1;33m:\u001b[0m\u001b[1;33m\u001b[0m\u001b[0m\n\u001b[0;32m   2021\u001b[0m             \u001b[1;31m# DTA/TDA constructor and astype can handle 2D\u001b[0m\u001b[1;33m\u001b[0m\u001b[1;33m\u001b[0m\u001b[0m\n\u001b[1;32m-> 2022\u001b[1;33m             \u001b[1;32mreturn\u001b[0m \u001b[0mself\u001b[0m\u001b[1;33m.\u001b[0m\u001b[0m_holder\u001b[0m\u001b[1;33m(\u001b[0m\u001b[0mself\u001b[0m\u001b[1;33m.\u001b[0m\u001b[0mvalues\u001b[0m\u001b[1;33m)\u001b[0m\u001b[1;33m.\u001b[0m\u001b[0mastype\u001b[0m\u001b[1;33m(\u001b[0m\u001b[0mobject\u001b[0m\u001b[1;33m)\u001b[0m\u001b[1;33m\u001b[0m\u001b[0m\n\u001b[0m\u001b[0;32m   2023\u001b[0m         \u001b[1;32mreturn\u001b[0m \u001b[0mself\u001b[0m\u001b[1;33m.\u001b[0m\u001b[0mvalues\u001b[0m\u001b[1;33m\u001b[0m\u001b[0m\n\u001b[0;32m   2024\u001b[0m \u001b[1;33m\u001b[0m\u001b[0m\n",
      "\u001b[1;32m~\\AppData\\Roaming\\Python\\Python37\\site-packages\\pandas\\core\\arrays\\datetimes.py\u001b[0m in \u001b[0;36mastype\u001b[1;34m(self, dtype, copy)\u001b[0m\n\u001b[0;32m    598\u001b[0m         \u001b[1;32melif\u001b[0m \u001b[0mis_period_dtype\u001b[0m\u001b[1;33m(\u001b[0m\u001b[0mdtype\u001b[0m\u001b[1;33m)\u001b[0m\u001b[1;33m:\u001b[0m\u001b[1;33m\u001b[0m\u001b[0m\n\u001b[0;32m    599\u001b[0m             \u001b[1;32mreturn\u001b[0m \u001b[0mself\u001b[0m\u001b[1;33m.\u001b[0m\u001b[0mto_period\u001b[0m\u001b[1;33m(\u001b[0m\u001b[0mfreq\u001b[0m\u001b[1;33m=\u001b[0m\u001b[0mdtype\u001b[0m\u001b[1;33m.\u001b[0m\u001b[0mfreq\u001b[0m\u001b[1;33m)\u001b[0m\u001b[1;33m\u001b[0m\u001b[0m\n\u001b[1;32m--> 600\u001b[1;33m         \u001b[1;32mreturn\u001b[0m \u001b[0mdtl\u001b[0m\u001b[1;33m.\u001b[0m\u001b[0mDatetimeLikeArrayMixin\u001b[0m\u001b[1;33m.\u001b[0m\u001b[0mastype\u001b[0m\u001b[1;33m(\u001b[0m\u001b[0mself\u001b[0m\u001b[1;33m,\u001b[0m \u001b[0mdtype\u001b[0m\u001b[1;33m,\u001b[0m \u001b[0mcopy\u001b[0m\u001b[1;33m)\u001b[0m\u001b[1;33m\u001b[0m\u001b[0m\n\u001b[0m\u001b[0;32m    601\u001b[0m \u001b[1;33m\u001b[0m\u001b[0m\n\u001b[0;32m    602\u001b[0m     \u001b[1;31m# -----------------------------------------------------------------\u001b[0m\u001b[1;33m\u001b[0m\u001b[1;33m\u001b[0m\u001b[0m\n",
      "\u001b[1;32m~\\AppData\\Roaming\\Python\\Python37\\site-packages\\pandas\\core\\arrays\\datetimelike.py\u001b[0m in \u001b[0;36mastype\u001b[1;34m(self, dtype, copy)\u001b[0m\n\u001b[0;32m    628\u001b[0m \u001b[1;33m\u001b[0m\u001b[0m\n\u001b[0;32m    629\u001b[0m         \u001b[1;32mif\u001b[0m \u001b[0mis_object_dtype\u001b[0m\u001b[1;33m(\u001b[0m\u001b[0mdtype\u001b[0m\u001b[1;33m)\u001b[0m\u001b[1;33m:\u001b[0m\u001b[1;33m\u001b[0m\u001b[0m\n\u001b[1;32m--> 630\u001b[1;33m             \u001b[1;32mreturn\u001b[0m \u001b[0mself\u001b[0m\u001b[1;33m.\u001b[0m\u001b[0m_box_values\u001b[0m\u001b[1;33m(\u001b[0m\u001b[0mself\u001b[0m\u001b[1;33m.\u001b[0m\u001b[0masi8\u001b[0m\u001b[1;33m.\u001b[0m\u001b[0mravel\u001b[0m\u001b[1;33m(\u001b[0m\u001b[1;33m)\u001b[0m\u001b[1;33m)\u001b[0m\u001b[1;33m.\u001b[0m\u001b[0mreshape\u001b[0m\u001b[1;33m(\u001b[0m\u001b[0mself\u001b[0m\u001b[1;33m.\u001b[0m\u001b[0mshape\u001b[0m\u001b[1;33m)\u001b[0m\u001b[1;33m\u001b[0m\u001b[0m\n\u001b[0m\u001b[0;32m    631\u001b[0m         \u001b[1;32melif\u001b[0m \u001b[0mis_string_dtype\u001b[0m\u001b[1;33m(\u001b[0m\u001b[0mdtype\u001b[0m\u001b[1;33m)\u001b[0m \u001b[1;32mand\u001b[0m \u001b[1;32mnot\u001b[0m \u001b[0mis_categorical_dtype\u001b[0m\u001b[1;33m(\u001b[0m\u001b[0mdtype\u001b[0m\u001b[1;33m)\u001b[0m\u001b[1;33m:\u001b[0m\u001b[1;33m\u001b[0m\u001b[0m\n\u001b[0;32m    632\u001b[0m             \u001b[1;32mif\u001b[0m \u001b[0mis_extension_array_dtype\u001b[0m\u001b[1;33m(\u001b[0m\u001b[0mdtype\u001b[0m\u001b[1;33m)\u001b[0m\u001b[1;33m:\u001b[0m\u001b[1;33m\u001b[0m\u001b[0m\n",
      "\u001b[1;32m~\\AppData\\Roaming\\Python\\Python37\\site-packages\\pandas\\core\\arrays\\datetimelike.py\u001b[0m in \u001b[0;36m_box_values\u001b[1;34m(self, values)\u001b[0m\n\u001b[0;32m    484\u001b[0m         \u001b[0mapply\u001b[0m \u001b[0mbox\u001b[0m \u001b[0mfunc\u001b[0m \u001b[0mto\u001b[0m \u001b[0mpassed\u001b[0m \u001b[0mvalues\u001b[0m\u001b[1;33m\u001b[0m\u001b[0m\n\u001b[0;32m    485\u001b[0m         \"\"\"\n\u001b[1;32m--> 486\u001b[1;33m         \u001b[1;32mreturn\u001b[0m \u001b[0mlib\u001b[0m\u001b[1;33m.\u001b[0m\u001b[0mmap_infer\u001b[0m\u001b[1;33m(\u001b[0m\u001b[0mvalues\u001b[0m\u001b[1;33m,\u001b[0m \u001b[0mself\u001b[0m\u001b[1;33m.\u001b[0m\u001b[0m_box_func\u001b[0m\u001b[1;33m)\u001b[0m\u001b[1;33m\u001b[0m\u001b[0m\n\u001b[0m\u001b[0;32m    487\u001b[0m \u001b[1;33m\u001b[0m\u001b[0m\n\u001b[0;32m    488\u001b[0m     \u001b[1;32mdef\u001b[0m \u001b[0m__iter__\u001b[0m\u001b[1;33m(\u001b[0m\u001b[0mself\u001b[0m\u001b[1;33m)\u001b[0m\u001b[1;33m:\u001b[0m\u001b[1;33m\u001b[0m\u001b[0m\n",
      "\u001b[1;32mpandas\\_libs\\lib.pyx\u001b[0m in \u001b[0;36mpandas._libs.lib.map_infer\u001b[1;34m()\u001b[0m\n",
      "\u001b[1;32m~\\AppData\\Roaming\\Python\\Python37\\site-packages\\pandas\\core\\arrays\\datetimes.py\u001b[0m in \u001b[0;36m<lambda>\u001b[1;34m(x)\u001b[0m\n\u001b[0;32m    475\u001b[0m     \u001b[1;33m@\u001b[0m\u001b[0mproperty\u001b[0m\u001b[1;33m\u001b[0m\u001b[0m\n\u001b[0;32m    476\u001b[0m     \u001b[1;32mdef\u001b[0m \u001b[0m_box_func\u001b[0m\u001b[1;33m(\u001b[0m\u001b[0mself\u001b[0m\u001b[1;33m)\u001b[0m\u001b[1;33m:\u001b[0m\u001b[1;33m\u001b[0m\u001b[0m\n\u001b[1;32m--> 477\u001b[1;33m         \u001b[1;32mreturn\u001b[0m \u001b[1;32mlambda\u001b[0m \u001b[0mx\u001b[0m\u001b[1;33m:\u001b[0m \u001b[0mTimestamp\u001b[0m\u001b[1;33m(\u001b[0m\u001b[0mx\u001b[0m\u001b[1;33m,\u001b[0m \u001b[0mfreq\u001b[0m\u001b[1;33m=\u001b[0m\u001b[0mself\u001b[0m\u001b[1;33m.\u001b[0m\u001b[0mfreq\u001b[0m\u001b[1;33m,\u001b[0m \u001b[0mtz\u001b[0m\u001b[1;33m=\u001b[0m\u001b[0mself\u001b[0m\u001b[1;33m.\u001b[0m\u001b[0mtz\u001b[0m\u001b[1;33m)\u001b[0m\u001b[1;33m\u001b[0m\u001b[0m\n\u001b[0m\u001b[0;32m    478\u001b[0m \u001b[1;33m\u001b[0m\u001b[0m\n\u001b[0;32m    479\u001b[0m     \u001b[1;33m@\u001b[0m\u001b[0mproperty\u001b[0m\u001b[1;33m\u001b[0m\u001b[0m\n",
      "\u001b[1;31mKeyboardInterrupt\u001b[0m: "
     ]
    }
   ],
   "source": [
    "# 1. Make sure your rows are in chronological order\n",
    "merged = merged.sort_values(['asset','DateTime']).reset_index(drop=True)\n",
    "\n",
    "# 2. Prepare the output column and a little “state” variable\n",
    "merged['failure_period'] = 0\n",
    "in_failure = 0\n",
    "\n",
    "# 3. Walk through each row and update the state\n",
    "for i, row in merged.iterrows():\n",
    "    # if we’re not in a failure, check for the start condition\n",
    "    if in_failure == 0 and row['alarm_flag'] == 1 and row['valve pos'] == 1:\n",
    "        in_failure = 1\n",
    "    # if we are in a failure, check for the stop condition\n",
    "    elif in_failure == 1 and row['valve pos'] == 2:\n",
    "        in_failure = 0\n",
    "\n",
    "    # write the current state into the new column\n",
    "    merged.at[i, 'failure_period'] = in_failure\n"
   ]
  },
  {
   "cell_type": "code",
   "execution_count": null,
   "id": "659c6523",
   "metadata": {},
   "outputs": [
    {
     "name": "stdout",
     "output_type": "stream",
     "text": [
      "<class 'pandas.core.frame.DataFrame'>\n",
      "RangeIndex: 2764800 entries, 0 to 2764799\n",
      "Data columns (total 8 columns):\n",
      " #   Column          Dtype         \n",
      "---  ------          -----         \n",
      " 0   DateTime        datetime64[ns]\n",
      " 1   asset           object        \n",
      " 2   valve pos       float64       \n",
      " 3   Tag             object        \n",
      " 4   Alarm           object        \n",
      " 5   alarm_time      datetime64[ns]\n",
      " 6   alarm_flag      int32         \n",
      " 7   failure_period  int64         \n",
      "dtypes: datetime64[ns](2), float64(1), int32(1), int64(1), object(3)\n",
      "memory usage: 158.2+ MB\n"
     ]
    }
   ],
   "source": [
    "merged.info()"
   ]
  },
  {
   "cell_type": "code",
   "execution_count": null,
   "id": "ba59f401",
   "metadata": {},
   "outputs": [],
   "source": [
    "# save without the index column\n",
    "merged.to_csv('merged_with_alarm_flag.csv', index=False)\n"
   ]
  },
  {
   "cell_type": "code",
   "execution_count": null,
   "id": "745df9e6",
   "metadata": {},
   "outputs": [
    {
     "name": "stdout",
     "output_type": "stream",
     "text": [
      "DateTime          2764800\n",
      "asset             2764800\n",
      "valve pos         2764800\n",
      "Tag                     8\n",
      "Alarm                   8\n",
      "alarm_time         834447\n",
      "alarm_flag        2764800\n",
      "failure_period    2764800\n",
      "dtype: int64\n"
     ]
    }
   ],
   "source": [
    "counts = merged.count()\n",
    "print(counts)\n"
   ]
  }
 ],
 "metadata": {
  "kernelspec": {
   "display_name": "Python 3",
   "language": "python",
   "name": "python3"
  },
  "language_info": {
   "codemirror_mode": {
    "name": "ipython",
    "version": 3
   },
   "file_extension": ".py",
   "mimetype": "text/x-python",
   "name": "python",
   "nbconvert_exporter": "python",
   "pygments_lexer": "ipython3",
   "version": "3.7.0"
  }
 },
 "nbformat": 4,
 "nbformat_minor": 5
}
